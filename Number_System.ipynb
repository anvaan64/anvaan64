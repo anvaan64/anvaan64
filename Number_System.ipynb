{
 "cells": [
  {
   "cell_type": "code",
   "execution_count": null,
   "id": "92234f96",
   "metadata": {},
   "outputs": [],
   "source": [
    "# перевод чисел из одной системы счисления в другую ( по умолчанию на входе и выходе десятичная \n",
    "#  система)\n",
    "def convert(num, to_base = 10, from_base = 10):\n",
    "    alphabet = '0123456789ABCDEFGHIJKLMNOPQRSTUVWXYZ'\n",
    "    digit = []\n",
    "    number = 0\n",
    "    num_str = num\n",
    "    if from_base != 10:\n",
    "        for i in range(len(num_str)):\n",
    "            number += int(alphabet.index(num_str[i])) * from_base**(len(num_str) - i-1)\n",
    "    else:\n",
    "        number = int(num)\n",
    "    if to_base == 10:\n",
    "        return str(number)\n",
    "    else:\n",
    "        while number > 0:\n",
    "            rest = number % to_base\n",
    "            digit.append(rest)\n",
    "            number //= to_base\n",
    "        num_out = ''\n",
    "        for i in range(len(digit)):\n",
    "            num_out += alphabet[digit[i]]\n",
    "    number_out = num_out[::-1]\n",
    "    return number_out\n",
    "        \n",
    "n = input()\n",
    "numer = convert(n,from_base = 10, to_base = 16)\n",
    "print(numer)\n"
   ]
  }
 ],
 "metadata": {
  "kernelspec": {
   "display_name": "Python 3 (ipykernel)",
   "language": "python",
   "name": "python3"
  },
  "language_info": {
   "codemirror_mode": {
    "name": "ipython",
    "version": 3
   },
   "file_extension": ".py",
   "mimetype": "text/x-python",
   "name": "python",
   "nbconvert_exporter": "python",
   "pygments_lexer": "ipython3",
   "version": "3.9.7"
  }
 },
 "nbformat": 4,
 "nbformat_minor": 5
}
